{
 "cells": [
  {
   "cell_type": "code",
   "execution_count": null,
   "metadata": {},
   "outputs": [],
   "source": [
    "def function():\n",
    "    for i in range(3,100,3):\n",
    "        print(i)\n",
    "function()"
   ]
  },
  {
   "cell_type": "code",
   "execution_count": null,
   "metadata": {},
   "outputs": [],
   "source": [
    "ip=input(\"Enter IP address: \")\n",
    "print(ip)"
   ]
  },
  {
   "cell_type": "code",
   "execution_count": null,
   "metadata": {},
   "outputs": [],
   "source": [
    "import random\n",
    "words=[\"hii\",\"Hello\",\"bug\",\"bounty\",\"This is word guessing\"]\n",
    "sec_word=random.choice(words)\n",
    "display_word=[]\n",
    "for letter in sec_word:\n",
    "    display_word+='_'\n",
    "print(display_word)\n",
    "length=len(sec_word)\n",
    "\n",
    "# print(\"guess: \",guess)\n",
    "while length:\n",
    "    guess=input(\"Enter a letter: \")\n",
    "    for position in range(len(sec_word)):\n",
    "        letter = sec_word[position]\n",
    "        if letter == guess:\n",
    "            display_word[position]=letter\n",
    "    print(display_word)\n",
    "    length-=1"
   ]
  },
  {
   "cell_type": "code",
   "execution_count": 1,
   "metadata": {},
   "outputs": [
    {
     "name": "stdout",
     "output_type": "stream",
     "text": [
      "_ _ _ _ _\n",
      "Brute force attempt: _____\n",
      "Brute force attempt: _____\n",
      "Brute force attempt: _____\n",
      "Brute force attempt: _____\n",
      "Brute force attempt: _e___\n",
      "Brute force attempt: _e___\n",
      "Brute force attempt: _e___\n",
      "Brute force attempt: He___\n",
      "Brute force attempt: He___\n",
      "Brute force attempt: He___\n",
      "Brute force attempt: He___\n",
      "Brute force attempt: Hell_\n",
      "Brute force attempt: Hell_\n",
      "Brute force attempt: Hell_\n",
      "Brute force attempt: Hello\n",
      "Final guessed word: Hello\n"
     ]
    }
   ],
   "source": [
    "import random\n",
    "import string\n",
    "\n",
    "words = [\"hii\", \"Hello\", \"bug\", \"bounty\",\"zzz\",\"This is word guessing\"]\n",
    "sec_word = random.choice(words)\n",
    "display_word = ['_'] * len(sec_word)\n",
    "\n",
    "print(' '.join(display_word))\n",
    "\n",
    "for letter in string.ascii_lowercase:\n",
    "    for position in range(len(sec_word)):\n",
    "        if sec_word[position].lower() == letter:\n",
    "            display_word[position] = sec_word[position]\n",
    "    print(\"Brute force attempt:\", ''.join(display_word))\n",
    "    \n",
    "    if '_' not in display_word:\n",
    "        break\n",
    "print(\"Final guessed word:\", ''.join(display_word))\n"
   ]
  },
  {
   "cell_type": "code",
   "execution_count": null,
   "metadata": {},
   "outputs": [],
   "source": [
    "import matplotlib.pyplot as plt\n",
    "import networkx as nx\n",
    "\n",
    "# Create a graph\n",
    "G = nx.DiGraph()\n",
    "\n",
    "# Define components\n",
    "components = [\n",
    "    \"Power Supply (5V DC)\", \"ESP32 / Raspberry Pi\", \"SDR Module\", \"Antenna\",\n",
    "    \"LED Indicator\", \"Buzzer (Optional)\", \"Wi-Fi Module\", \"Cloud Dashboard\"\n",
    "]\n",
    "\n",
    "# Define connections\n",
    "connections = [\n",
    "    (\"Power Supply (5V DC)\", \"ESP32 / Raspberry Pi\"),\n",
    "    (\"ESP32 / Raspberry Pi\", \"SDR Module\"),\n",
    "    (\"SDR Module\", \"Antenna\"),\n",
    "    (\"ESP32 / Raspberry Pi\", \"LED Indicator\"),\n",
    "    (\"ESP32 / Raspberry Pi\", \"Buzzer (Optional)\"),\n",
    "    (\"ESP32 / Raspberry Pi\", \"Wi-Fi Module\"),\n",
    "    (\"Wi-Fi Module\", \"Cloud Dashboard\")\n",
    "]\n",
    "\n",
    "# Add nodes and edges to the graph\n",
    "G.add_nodes_from(components)\n",
    "G.add_edges_from(connections)\n",
    "\n",
    "# Plot the circuit diagram\n",
    "plt.figure(figsize=(8, 6))\n",
    "pos = nx.spring_layout(G, seed=42)  # Layout for positioning\n",
    "\n",
    "# Draw nodes and edges\n",
    "nx.draw(G, pos, with_labels=True, node_color=\"lightblue\", edge_color=\"gray\", node_size=3000, font_size=9)\n",
    "\n",
    "# Display the circuit diagram\n",
    "plt.title(\"Circuit Diagram for Smart IoT-Based Mobile Detection System\", fontsize=12)\n",
    "plt.show()\n"
   ]
  }
 ],
 "metadata": {
  "kernelspec": {
   "display_name": "Python 3",
   "language": "python",
   "name": "python3"
  },
  "language_info": {
   "codemirror_mode": {
    "name": "ipython",
    "version": 3
   },
   "file_extension": ".py",
   "mimetype": "text/x-python",
   "name": "python",
   "nbconvert_exporter": "python",
   "pygments_lexer": "ipython3",
   "version": "3.12.9"
  }
 },
 "nbformat": 4,
 "nbformat_minor": 2
}
